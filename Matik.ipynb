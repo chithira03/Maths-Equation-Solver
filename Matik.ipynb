{
  "cells": [
    {
      "cell_type": "code",
      "execution_count": 1,
      "metadata": {
        "id": "l8bgvrnRclt_"
      },
      "outputs": [],
      "source": [
        "import numpy as np\n",
        "import pandas as pd\n",
        "import matplotlib.pyplot as plt\n",
        "import cv2\n",
        "import os\n",
        "from os import listdir\n",
        "from os.path import isfile, join\n",
        "from PIL import Image"
      ]
    },
    {
      "cell_type": "markdown",
      "metadata": {
        "id": "1ddsiD9Fc89b"
      },
      "source": [
        "**CREATE LOAD IMAGE FUNCTION**"
      ]
    },
    {
      "cell_type": "code",
      "execution_count": 2,
      "metadata": {
        "id": "stP_68oRc73_"
      },
      "outputs": [],
      "source": [
        "def load_images_from_folder(folder):\n",
        "    train_data = []\n",
        "    for filename in os.listdir(folder):\n",
        "        img = cv2.imread(os.path.join(folder, filename), cv2.IMREAD_GRAYSCALE)\n",
        "        img = ~img  # Invert the image\n",
        "\n",
        "        if img is not None:\n",
        "            ret, thresh = cv2.threshold(img, 127, 255, cv2.THRESH_BINARY)\n",
        "            contours, _ = cv2.findContours(thresh, cv2.RETR_EXTERNAL, cv2.CHAIN_APPROX_NONE)\n",
        "            cnt = sorted(contours, key=lambda ctr: cv2.boundingRect(ctr)[0])\n",
        "\n",
        "            maxi = 0\n",
        "            for c in cnt:\n",
        "                x, y, w, h = cv2.boundingRect(c)\n",
        "                if w * h > maxi:\n",
        "                    maxi = w * h\n",
        "                    x_max = x\n",
        "                    y_max = y\n",
        "                    w_max = w\n",
        "                    h_max = h\n",
        "\n",
        "            if maxi > 0:  # Ensure a contour was found\n",
        "                im_crop = thresh[y_max:y_max + h_max + 10, x_max:x_max + w_max + 10]\n",
        "                im_resize = cv2.resize(im_crop, (28, 28))\n",
        "                im_resize = np.reshape(im_resize, (784, 1))\n",
        "                train_data.append(im_resize)\n",
        "                \n",
        "    return train_data"
      ]
    },
    {
      "cell_type": "markdown",
      "metadata": {
        "id": "mlyyF2WojqVT"
      },
      "source": [
        "**LOAD DATASET**"
      ]
    },
    {
      "cell_type": "code",
      "execution_count": 3,
      "metadata": {
        "id": "r3sTnPEqjmMt"
      },
      "outputs": [],
      "source": [
        "data =[]"
      ]
    },
    {
      "cell_type": "code",
      "execution_count": 4,
      "metadata": {
        "colab": {
          "base_uri": "https://localhost:8080/",
          "height": 349
        },
        "id": "MdXR--EdjpnW",
        "outputId": "aa763960-7e10-4abf-e2d9-1152ab21fae7"
      },
      "outputs": [
        {
          "name": "stdout",
          "output_type": "stream",
          "text": [
            "25112\n"
          ]
        }
      ],
      "source": [
        "#assign +\n",
        "data = load_images_from_folder(r\"data\\extracted_images\\+\")\n",
        "len(data)\n",
        "\n",
        "for i in range(0, len(data)):\n",
        "  data[i] = np.append(data[i], [\"10\"])\n",
        "\n",
        "print(len(data))"
      ]
    },
    {
      "cell_type": "code",
      "execution_count": 5,
      "metadata": {
        "id": "Vl8iBhwZsTGl"
      },
      "outputs": [
        {
          "name": "stdout",
          "output_type": "stream",
          "text": [
            "Number of images in '-': 33997\n",
            "Total number of images: 59109\n"
          ]
        }
      ],
      "source": [
        "# Load images and assign label = 11 for '-'\n",
        "data0 = load_images_from_folder(r\"data\\extracted_images\\-\")\n",
        "print(\"Number of images in '-':\", len(data0))\n",
        "\n",
        "for i in range(len(data0)):\n",
        "    data0[i] = np.append(data0[i], 11)  # Append label 11 to each image\n",
        "\n",
        "# Concatenate the two datasets\n",
        "data = np.concatenate((data, data0))\n",
        "print(\"Total number of images:\", len(data))\n"
      ]
    },
    {
      "cell_type": "code",
      "execution_count": 6,
      "metadata": {
        "id": "-zEtnzy0s6H0"
      },
      "outputs": [
        {
          "name": "stdout",
          "output_type": "stream",
          "text": [
            "Number of images in '*': 33997\n",
            "Total number of images: 62360\n"
          ]
        }
      ],
      "source": [
        "# Load images and assign label = 11 for '-'\n",
        "data1 = load_images_from_folder(r\"data\\extracted_images\\times\")\n",
        "print(\"Number of images in '*':\", len(data0))\n",
        "\n",
        "for i in range(len(data1)):\n",
        "    data1[i] = np.append(data1[i], 12)  # Append label 11 to each image\n",
        "\n",
        "# Concatenate the two datasets\n",
        "data = np.concatenate((data, data1))\n",
        "print(\"Total number of images:\", len(data))\n"
      ]
    },
    {
      "cell_type": "code",
      "execution_count": 7,
      "metadata": {
        "id": "8VwC3xvUtKKR"
      },
      "outputs": [
        {
          "name": "stdout",
          "output_type": "stream",
          "text": [
            "Number of images in '/': 868\n",
            "Total number of images: 63228\n"
          ]
        }
      ],
      "source": [
        "# Load images and assign label = 11 for '-'\n",
        "data2 = load_images_from_folder(r\"data\\extracted_images\\div\")\n",
        "print(\"Number of images in '/':\", len(data2))\n",
        "\n",
        "for i in range(len(data2)):\n",
        "    data2[i] = np.append(data2[i], 13)  # Append label 11 to each image\n",
        "\n",
        "# Concatenate the two datasets\n",
        "data = np.concatenate((data, data2))\n",
        "print(\"Total number of images:\", len(data))\n"
      ]
    },
    {
      "cell_type": "code",
      "execution_count": 8,
      "metadata": {},
      "outputs": [
        {
          "name": "stdout",
          "output_type": "stream",
          "text": [
            "Number of images in '0': 6914\n",
            "Total number of images: 70142\n"
          ]
        }
      ],
      "source": [
        "# Load images and assign label = 0 for '-'\n",
        "data3 = load_images_from_folder(r\"data\\extracted_images\\0\")\n",
        "print(\"Number of images in '0':\", len(data3))\n",
        "\n",
        "for i in range(len(data3)):\n",
        "    data3[i] = np.append(data3[i], 0)  # Append label 14 to each image\n",
        "\n",
        "# Concatenate the two datasets\n",
        "data = np.concatenate((data, data3))\n",
        "print(\"Total number of images:\", len(data))"
      ]
    },
    {
      "cell_type": "code",
      "execution_count": 9,
      "metadata": {},
      "outputs": [
        {
          "name": "stdout",
          "output_type": "stream",
          "text": [
            "Number of images in '1': 26520\n",
            "Total number of images: 96662\n"
          ]
        }
      ],
      "source": [
        "# Load images and assign label = 1 for '-'\n",
        "data4 = load_images_from_folder(r\"data\\extracted_images\\1\")\n",
        "print(\"Number of images in '1':\", len(data4))\n",
        "\n",
        "for i in range(len(data4)):\n",
        "    data4[i] = np.append(data4[i], 1)  # Append label 11 to each image\n",
        "\n",
        "# Concatenate the two datasets\n",
        "data = np.concatenate((data, data4))\n",
        "print(\"Total number of images:\", len(data))"
      ]
    },
    {
      "cell_type": "code",
      "execution_count": 10,
      "metadata": {},
      "outputs": [
        {
          "name": "stdout",
          "output_type": "stream",
          "text": [
            "Number of images in '2': 26141\n",
            "Total number of images: 123182\n"
          ]
        }
      ],
      "source": [
        "# Load images and assign label = 2 for '-'\n",
        "data5 = load_images_from_folder(r\"data\\extracted_images\\2\")\n",
        "print(\"Number of images in '2':\", len(data5))\n",
        "\n",
        "for i in range(len(data5)):\n",
        "    data5[i] = np.append(data5[i], 2)  # Append label 11 to each image\n",
        "\n",
        "# Concatenate the two datasets\n",
        "data = np.concatenate((data, data4))\n",
        "print(\"Total number of images:\", len(data))"
      ]
    },
    {
      "cell_type": "code",
      "execution_count": 11,
      "metadata": {},
      "outputs": [
        {
          "name": "stdout",
          "output_type": "stream",
          "text": [
            "Number of images in '2': 10909\n",
            "Total number of images: 134091\n"
          ]
        }
      ],
      "source": [
        "# Load images and assign label = 3 for '-'\n",
        "data6 = load_images_from_folder(r\"data\\extracted_images\\3\")\n",
        "print(\"Number of images in '2':\", len(data6))\n",
        "\n",
        "for i in range(len(data6)):\n",
        "    data6[i] = np.append(data6[i], 3)  # Append label 11 to each image\n",
        "\n",
        "# Concatenate the two datasets\n",
        "data = np.concatenate((data, data6))\n",
        "print(\"Total number of images:\", len(data))"
      ]
    },
    {
      "cell_type": "code",
      "execution_count": 12,
      "metadata": {},
      "outputs": [
        {
          "name": "stdout",
          "output_type": "stream",
          "text": [
            "Number of images in '4': 7396\n",
            "Total number of images: 141487\n"
          ]
        }
      ],
      "source": [
        "# Load images and assign label = 4 for '-'\n",
        "data7 = load_images_from_folder(r\"data\\extracted_images\\4\")\n",
        "print(\"Number of images in '4':\", len(data7))\n",
        "\n",
        "for i in range(len(data7)):\n",
        "    data7[i] = np.append(data7[i], 4)  # Append label 4 to each image\n",
        "\n",
        "# Concatenate the two datasets\n",
        "data = np.concatenate((data, data7))\n",
        "print(\"Total number of images:\", len(data))"
      ]
    },
    {
      "cell_type": "code",
      "execution_count": 13,
      "metadata": {},
      "outputs": [
        {
          "name": "stdout",
          "output_type": "stream",
          "text": [
            "Number of images in '5': 3545\n",
            "Total number of images: 145032\n"
          ]
        }
      ],
      "source": [
        "# Load images and assign label = 5 for '-'\n",
        "data8 = load_images_from_folder(r\"data\\extracted_images\\5\")\n",
        "print(\"Number of images in '5':\", len(data8))\n",
        "\n",
        "for i in range(len(data8)):\n",
        "    data8[i] = np.append(data8[i], 5)  # Append label 4 to each image\n",
        "\n",
        "# Concatenate the two datasets\n",
        "data = np.concatenate((data, data8))\n",
        "print(\"Total number of images:\", len(data))"
      ]
    },
    {
      "cell_type": "code",
      "execution_count": 14,
      "metadata": {},
      "outputs": [
        {
          "name": "stdout",
          "output_type": "stream",
          "text": [
            "Number of images in '6': 3118\n",
            "Total number of images: 148150\n"
          ]
        }
      ],
      "source": [
        "# Load images and assign label = 6 for '-'\n",
        "data9 = load_images_from_folder(r\"data\\extracted_images\\6\")\n",
        "print(\"Number of images in '6':\", len(data9))\n",
        "\n",
        "for i in range(len(data9)):\n",
        "    data9[i] = np.append(data9[i], 6)  # Append label 4 to each image\n",
        "\n",
        "# Concatenate the two datasets\n",
        "data = np.concatenate((data, data9))\n",
        "print(\"Total number of images:\", len(data))"
      ]
    },
    {
      "cell_type": "code",
      "execution_count": 15,
      "metadata": {},
      "outputs": [
        {
          "name": "stdout",
          "output_type": "stream",
          "text": [
            "Number of images in '7': 2909\n",
            "Total number of images: 151059\n"
          ]
        }
      ],
      "source": [
        "# Load images and assign label = 7 for '-'\n",
        "data10 = load_images_from_folder(r\"data\\extracted_images\\7\")\n",
        "print(\"Number of images in '7':\", len(data10))\n",
        "\n",
        "for i in range(len(data10)):\n",
        "    data10[i] = np.append(data10[i], 7)  # Append label 4 to each image\n",
        "\n",
        "# Concatenate the two datasets\n",
        "data = np.concatenate((data, data10))\n",
        "print(\"Total number of images:\", len(data))"
      ]
    },
    {
      "cell_type": "code",
      "execution_count": 16,
      "metadata": {},
      "outputs": [
        {
          "name": "stdout",
          "output_type": "stream",
          "text": [
            "Number of images in '8': 3068\n",
            "Total number of images: 154127\n"
          ]
        }
      ],
      "source": [
        "# Load images and assign label = 8 for '8'\n",
        "data11 = load_images_from_folder(r\"data\\extracted_images\\8\")\n",
        "print(\"Number of images in '8':\", len(data11))\n",
        "\n",
        "for i in range(len(data11)):\n",
        "    data11[i] = np.append(data11[i], 8)  \n",
        "\n",
        "# Concatenate the two datasets\n",
        "data = np.concatenate((data, data11))\n",
        "print(\"Total number of images:\", len(data))"
      ]
    },
    {
      "cell_type": "code",
      "execution_count": 17,
      "metadata": {},
      "outputs": [
        {
          "name": "stdout",
          "output_type": "stream",
          "text": [
            "Number of images in '9': 3737\n",
            "Total number of images: 157864\n"
          ]
        }
      ],
      "source": [
        "# Load images and assign label = 9 for '9'\n",
        "data12 = load_images_from_folder(r\"data\\extracted_images\\9\")\n",
        "print(\"Number of images in '9':\", len(data12))\n",
        "\n",
        "for i in range(len(data12)):\n",
        "    data12[i] = np.append(data12[i], 9)  \n",
        "\n",
        "# Concatenate the two datasets\n",
        "data = np.concatenate((data, data12))\n",
        "print(\"Total number of images:\", len(data))"
      ]
    },
    {
      "cell_type": "code",
      "execution_count": 18,
      "metadata": {},
      "outputs": [
        {
          "name": "stdout",
          "output_type": "stream",
          "text": [
            "Number of images in '(': 14294\n",
            "Total number of images: 172158\n"
          ]
        }
      ],
      "source": [
        "# Load images and assign label = 14 for '('\n",
        "data13 = load_images_from_folder(r\"data\\extracted_images\\(\")\n",
        "print(\"Number of images in '(':\", len(data13))\n",
        "\n",
        "for i in range(len(data13)):\n",
        "    data13[i] = np.append(data13[i], 14)  \n",
        "\n",
        "# Concatenate the two datasets\n",
        "data = np.concatenate((data, data13))\n",
        "print(\"Total number of images:\", len(data))"
      ]
    },
    {
      "cell_type": "code",
      "execution_count": 19,
      "metadata": {},
      "outputs": [
        {
          "name": "stdout",
          "output_type": "stream",
          "text": [
            "Number of images in ')': 14355\n",
            "Total number of images: 186513\n"
          ]
        }
      ],
      "source": [
        "# Load images and assign label = 15 for ')'\n",
        "data14 = load_images_from_folder(r\"data\\extracted_images\\)\")\n",
        "print(\"Number of images in ')':\", len(data14))\n",
        "\n",
        "for i in range(len(data14)):\n",
        "    data14[i] = np.append(data14[i], 15)  \n",
        "\n",
        "# Concatenate the two datasets\n",
        "data = np.concatenate((data, data14))\n",
        "print(\"Total number of images:\", len(data))"
      ]
    },
    {
      "cell_type": "code",
      "execution_count": 21,
      "metadata": {},
      "outputs": [
        {
          "name": "stdout",
          "output_type": "stream",
          "text": [
            "Number of images in ')': 778\n",
            "Total number of images: 187291\n"
          ]
        }
      ],
      "source": [
        "# Load images and assign label = 16 for '['\n",
        "data15 = load_images_from_folder(r\"data\\extracted_images\\[\")\n",
        "print(\"Number of images in ')':\", len(data15))\n",
        "\n",
        "for i in range(len(data15)):\n",
        "    data15[i] = np.append(data15[i], 16)  \n",
        "\n",
        "# Concatenate the two datasets\n",
        "data = np.concatenate((data, data15))\n",
        "print(\"Total number of images:\", len(data))"
      ]
    },
    {
      "cell_type": "code",
      "execution_count": 22,
      "metadata": {},
      "outputs": [
        {
          "name": "stdout",
          "output_type": "stream",
          "text": [
            "Number of images in ')': 780\n",
            "Total number of images: 188071\n"
          ]
        }
      ],
      "source": [
        "# Load images and assign label = 17 for ']'\n",
        "data16 = load_images_from_folder(r\"data\\extracted_images\\]\")\n",
        "print(\"Number of images in ')':\", len(data16))\n",
        "\n",
        "for i in range(len(data16)):\n",
        "    data16[i] = np.append(data16[i], 17)  \n",
        "\n",
        "# Concatenate the two datasets\n",
        "data = np.concatenate((data, data16))\n",
        "print(\"Total number of images:\", len(data))"
      ]
    },
    {
      "cell_type": "code",
      "execution_count": 23,
      "metadata": {},
      "outputs": [
        {
          "name": "stdout",
          "output_type": "stream",
          "text": [
            "Number of images in ')': 376\n",
            "Total number of images: 188447\n"
          ]
        }
      ],
      "source": [
        "# Load images and assign label = 18 for '{'\n",
        "data17 = load_images_from_folder(r\"data\\extracted_images\\{\")\n",
        "print(\"Number of images in ')':\", len(data17))\n",
        "\n",
        "for i in range(len(data17)):\n",
        "    data17[i] = np.append(data17[i], 18)  \n",
        "\n",
        "# Concatenate the two datasets\n",
        "data = np.concatenate((data, data17))\n",
        "print(\"Total number of images:\", len(data))"
      ]
    },
    {
      "cell_type": "code",
      "execution_count": 24,
      "metadata": {},
      "outputs": [
        {
          "name": "stdout",
          "output_type": "stream",
          "text": [
            "Number of images in ')': 377\n",
            "Total number of images: 188824\n"
          ]
        }
      ],
      "source": [
        "# Load images and assign label = 18 for '{'\n",
        "data18 = load_images_from_folder(r\"data\\extracted_images\\}\")\n",
        "print(\"Number of images in ')':\", len(data18))\n",
        "\n",
        "for i in range(len(data18)):\n",
        "    data18[i] = np.append(data18[i], 19)  \n",
        "\n",
        "# Concatenate the two datasets\n",
        "data = np.concatenate((data, data18))\n",
        "print(\"Total number of images:\", len(data))"
      ]
    },
    {
      "cell_type": "code",
      "execution_count": 25,
      "metadata": {},
      "outputs": [],
      "source": [
        "df = pd.DataFrame(data,index=None)\n",
        "df.to_csv('train_final.csv',index=False)"
      ]
    },
    {
      "cell_type": "code",
      "execution_count": null,
      "metadata": {},
      "outputs": [],
      "source": []
    }
  ],
  "metadata": {
    "colab": {
      "provenance": []
    },
    "kernelspec": {
      "display_name": "Python 3",
      "name": "python3"
    },
    "language_info": {
      "codemirror_mode": {
        "name": "ipython",
        "version": 3
      },
      "file_extension": ".py",
      "mimetype": "text/x-python",
      "name": "python",
      "nbconvert_exporter": "python",
      "pygments_lexer": "ipython3",
      "version": "3.12.2"
    }
  },
  "nbformat": 4,
  "nbformat_minor": 0
}
